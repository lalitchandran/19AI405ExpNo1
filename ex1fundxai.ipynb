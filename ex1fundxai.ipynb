{
 "cells": [
  {
   "cell_type": "code",
   "execution_count": 1,
   "id": "3fcc0e58-8469-420e-8647-dc0a58934ff1",
   "metadata": {},
   "outputs": [
    {
     "name": "stdout",
     "output_type": "stream",
     "text": [
      "Alert healthcare provider: High blood pressure detected\n",
      "Alert healthcare provider: High heart rate detected\n",
      "Recommend rest and monitor temperature\n",
      "Alert healthcare provider: High heart rate detected\n",
      "Recommend rest and monitor temperature\n",
      "No specific action needed\n"
     ]
    }
   ],
   "source": [
    "import random\n",
    "\n",
    "class HealthMonitoringAgent:\n",
    "    def __init__(self, patient_data):\n",
    "        self.patient_data = patient_data\n",
    "\n",
    "    def monitor_health(self):\n",
    "        while True:\n",
    "            current_health_state = self.sensors.get_health_state()\n",
    "            action = self.choose_action(current_health_state)\n",
    "            self.actuators.perform_action(action)\n",
    "            if self.choose_action(current_health_state)==\"No specific action needed\":\n",
    "                break\n",
    "\n",
    "    def choose_action(self, current_health_state):\n",
    "        # Example: A simple rule-based system for decision-making\n",
    "        if current_health_state['heart_rate'] > 120:\n",
    "            return \"Alert healthcare provider: High heart rate detected\"\n",
    "        elif current_health_state['blood_pressure'] > 140:\n",
    "            return \"Alert healthcare provider: High blood pressure detected\"\n",
    "        elif current_health_state['temperature'] > 38:\n",
    "            return \"Recommend rest and monitor temperature\"\n",
    "        else:\n",
    "            return \"No specific action needed\"\n",
    "\n",
    "class HealthSensors:\n",
    "    def get_health_state(self):\n",
    "        # Example: Simulate health data retrieval (replace with real data in a practical scenario)\n",
    "        return {\n",
    "            'heart_rate': random.randint(60, 150),\n",
    "            'blood_pressure': random.randint(90, 160),\n",
    "            'temperature': random.uniform(36.0, 38.5)\n",
    "        }\n",
    "\n",
    "class HealthActuators:\n",
    "    def perform_action(self, action):\n",
    "        # Example: Print or log the action (in a real scenario, this might involve more complex actions)\n",
    "        print(action)\n",
    "\n",
    "if __name__ == \"__main__\":\n",
    "    patient_data = {'patient_id': 123, 'name': 'John Doe', 'age': 35}\n",
    "    \n",
    "    health_sensors = HealthSensors()\n",
    "    health_actuators = HealthActuators()\n",
    "    \n",
    "    health_monitoring_agent = HealthMonitoringAgent(patient_data)\n",
    "    health_monitoring_agent.sensors = health_sensors\n",
    "    health_monitoring_agent.actuators = health_actuators\n",
    "    \n",
    "    health_monitoring_agent.monitor_health()"
   ]
  },
  {
   "cell_type": "code",
   "execution_count": null,
   "id": "0da7057c-756f-4fe8-b464-00ac6aae7389",
   "metadata": {},
   "outputs": [],
   "source": []
  }
 ],
 "metadata": {
  "kernelspec": {
   "display_name": "Python 3 (ipykernel)",
   "language": "python",
   "name": "python3"
  },
  "language_info": {
   "codemirror_mode": {
    "name": "ipython",
    "version": 3
   },
   "file_extension": ".py",
   "mimetype": "text/x-python",
   "name": "python",
   "nbconvert_exporter": "python",
   "pygments_lexer": "ipython3",
   "version": "3.12.4"
  }
 },
 "nbformat": 4,
 "nbformat_minor": 5
}
